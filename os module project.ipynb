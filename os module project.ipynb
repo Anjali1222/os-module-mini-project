{
 "cells": [
  {
   "cell_type": "code",
   "execution_count": 4,
   "id": "0ae61f65",
   "metadata": {},
   "outputs": [],
   "source": [
    "import os"
   ]
  },
  {
   "cell_type": "code",
   "execution_count": 1,
   "id": "e4ecaac0",
   "metadata": {},
   "outputs": [],
   "source": [
    "from os import*"
   ]
  },
  {
   "cell_type": "code",
   "execution_count": 2,
   "id": "3e3d7bf0",
   "metadata": {},
   "outputs": [
    {
     "name": "stdout",
     "output_type": "stream",
     "text": [
      "\n",
      "1: Create a directory\n",
      "2: Print a directory\n",
      "3: Remove the directory/file\n",
      "4: Exit1\n",
      "Enter the directory name you want to create:-ANJALI OS\n",
      "Directory created as ANJALI OS name\n",
      "\n",
      "1: Create a directory\n",
      "2: Print a directory\n",
      "3: Remove the directory/file\n",
      "4: Exit2\n",
      "Enter the directory to browse:-ANJALI OS\n",
      "\n",
      "1: Create a directory\n",
      "2: Print a directory\n",
      "3: Remove the directory/file\n",
      "4: Exit3\n",
      "Enter the directory name you want to remove:-ANJALI OS\n",
      "\n",
      "1: Create a directory\n",
      "2: Print a directory\n",
      "3: Remove the directory/file\n",
      "4: Exit4\n"
     ]
    }
   ],
   "source": [
    "while True:\n",
    "    choice=int(input(\"\\n1: Create a directory\\n2: Print a directory\\n3: Remove the directory/file\\n4: Exit\"))\n",
    "    if choice==1:\n",
    "        folder=input(\"Enter the directory name you want to create:-\")\n",
    "        mkdir(folder,int(\"700\",8))\n",
    "        print(f\"Directory created as {folder} name\")\n",
    "    if choice==2:\n",
    "        folder=input(\"Enter the directory to browse:-\")\n",
    "        contents=listdir(folder)\n",
    "        for f in contents:\n",
    "            print(f)\n",
    "    if choice==3:\n",
    "        folder=input(\"Enter the directory name you want to remove:-\")\n",
    "        rmdir(folder)\n",
    "    if choice==4:\n",
    "        break\n"
   ]
  },
  {
   "cell_type": "code",
   "execution_count": 5,
   "id": "40b44702",
   "metadata": {},
   "outputs": [
    {
     "data": {
      "text/plain": [
       "['os module project.ipynb',\n",
       " 'Untitled1.ipynb',\n",
       " 'Employee - Jupyter Notebook.pdf',\n",
       " 'Employee.ipynb',\n",
       " 'Game - Jupyter Notebook.pdf',\n",
       " 'os module.ipynb',\n",
       " 'stone paper scissor game.ipynb',\n",
       " '.ipynb_checkpoints',\n",
       " 'stone paper scissor game.pdf',\n",
       " 'renamed samp',\n",
       " 'Game.ipynb']"
      ]
     },
     "execution_count": 5,
     "metadata": {},
     "output_type": "execute_result"
    }
   ],
   "source": [
    "os.listdir()"
   ]
  },
  {
   "cell_type": "code",
   "execution_count": null,
   "id": "dd8f9742",
   "metadata": {},
   "outputs": [],
   "source": []
  }
 ],
 "metadata": {
  "kernelspec": {
   "display_name": "Python 3",
   "language": "python",
   "name": "python3"
  },
  "language_info": {
   "codemirror_mode": {
    "name": "ipython",
    "version": 3
   },
   "file_extension": ".py",
   "mimetype": "text/x-python",
   "name": "python",
   "nbconvert_exporter": "python",
   "pygments_lexer": "ipython3",
   "version": "3.8.8"
  }
 },
 "nbformat": 4,
 "nbformat_minor": 5
}
